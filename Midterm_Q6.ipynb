{
 "cells": [
  {
   "cell_type": "code",
   "execution_count": 37,
   "id": "09140944",
   "metadata": {},
   "outputs": [],
   "source": [
    "import numpy as np\n",
    "from sklearn.model_selection import train_test_split\n",
    "from sklearn import datasets\n",
    "import matplotlib.pyplot as plt\n",
    "from sklearn.metrics import confusion_matrix\n",
    "from numpy.random import randn\n",
    "import random\n",
    "from IPython.core.display import display,Image\n",
    "from string import Template\n",
    "import IPython.display\n",
    "import warnings"
   ]
  },
  {
   "cell_type": "code",
   "execution_count": 38,
   "id": "59d2cb18",
   "metadata": {
    "scrolled": true
   },
   "outputs": [],
   "source": [
    "import csv\n",
    "\n",
    "with open(r'C:/Users/12036/Downloads/iris_data.csv') as csvfile:\n",
    "    lines = csv.reader(csvfile)\n",
    "    \n",
    "    for row in lines:\n",
    "        pass\n",
    "    \n",
    "import random\n",
    "\n",
    "def Datas(filename, split, trainingset = [], testset = []):\n",
    "    with open(filename, 'r') as csvfile:\n",
    "        lines = csv.reader(csvfile)\n",
    "        dataset = list(lines)\n",
    "        for x in range(len(dataset) - 1):\n",
    "            for y in range (4):\n",
    "                dataset[x][y] = float(dataset[x][y])\n",
    "                \n",
    "            if random.random() < split:\n",
    "                trainingset.append(dataset[x])\n",
    "                \n",
    "            else:\n",
    "                testset.append(dataset[x])\n",
    "                \n",
    "\n",
    "\n"
   ]
  },
  {
   "cell_type": "code",
   "execution_count": 39,
   "id": "5bb34a4e",
   "metadata": {},
   "outputs": [],
   "source": [
    "import math\n",
    "def ED(instance1, instance2, length):\n",
    "    distance = 0\n",
    "    for x in range(length):\n",
    "        distance += pow((instance1[x] - instance2[x]), 2)\n",
    "        \n",
    "    return math.sqrt(distance)\n"
   ]
  },
  {
   "cell_type": "code",
   "execution_count": 40,
   "id": "77ee8394",
   "metadata": {},
   "outputs": [],
   "source": [
    "import operator as op\n",
    "def Neighbour(trainingset, testI, K):\n",
    "    distance = []\n",
    "    \n",
    "    length = len(testI) - 1\n",
    "    for x in range(len(trainingset)):\n",
    "        d = ED(testI, trainingset[x], length)\n",
    "        \n",
    "        distance.append((trainingset[x], d))\n",
    "        \n",
    "    distance.sort(key = op.itemgetter(1))\n",
    "    neigh = []\n",
    "    \n",
    "    for x in range(K):\n",
    "        neigh.append(distance[x][0])\n",
    "        \n",
    "    return neigh"
   ]
  },
  {
   "cell_type": "code",
   "execution_count": 41,
   "id": "7dd4e12d",
   "metadata": {},
   "outputs": [],
   "source": [
    "def predict(neigh):\n",
    "    cv = {}\n",
    "    for x in range(len(neigh)):\n",
    "        r = neigh[x][-1]\n",
    "        \n",
    "        if r in cv:\n",
    "            cv[r] += 1\n",
    "            \n",
    "        else:\n",
    "            cv[r] = 1\n",
    "            \n",
    "    sorted_x = sorted(cv.items(), key = op.itemgetter(1), reverse = True)\n",
    "    return sorted_x[0][0]\n",
    "\n"
   ]
  },
  {
   "cell_type": "code",
   "execution_count": 44,
   "id": "675e3e78",
   "metadata": {},
   "outputs": [],
   "source": [
    "def Accuracy(testset, prediction):\n",
    "    c = 0\n",
    "    for x in range(len(testset)):\n",
    "        if testset[x][-1] == prediction[x]:\n",
    "            c += 1\n",
    "            \n",
    "        return (c/float(len(testset))) * 100"
   ]
  },
  {
   "cell_type": "code",
   "execution_count": 45,
   "id": "f8af3738",
   "metadata": {},
   "outputs": [
    {
     "name": "stdout",
     "output_type": "stream",
     "text": [
      "Accuracy: 2.2222222222222223%\n"
     ]
    }
   ],
   "source": [
    "def main():\n",
    "    \n",
    "    trainingset = []\n",
    "    testset = []\n",
    "    \n",
    "    split = 0.7\n",
    "    \n",
    "    Datas('C:/Users/12036/Downloads/iris_data.csv', split, trainingset, testset)\n",
    "    \n",
    "    prediction = []\n",
    "    \n",
    "    K = 1\n",
    "    for x in range(len(testset)):\n",
    "        neigh = Neighbour(trainingset, testset[x], K)\n",
    "        \n",
    "        RR = predict(neigh)\n",
    "        prediction.append(RR)\n",
    "        \n",
    "    acc = Accuracy(testset, prediction)\n",
    "    print('Accuracy: ' +repr(acc)+ '%')\n",
    "    \n",
    "\n",
    "main()\n",
    "    "
   ]
  },
  {
   "cell_type": "code",
   "execution_count": null,
   "id": "c9414966",
   "metadata": {},
   "outputs": [],
   "source": []
  }
 ],
 "metadata": {
  "kernelspec": {
   "display_name": "Python 3 (ipykernel)",
   "language": "python",
   "name": "python3"
  },
  "language_info": {
   "codemirror_mode": {
    "name": "ipython",
    "version": 3
   },
   "file_extension": ".py",
   "mimetype": "text/x-python",
   "name": "python",
   "nbconvert_exporter": "python",
   "pygments_lexer": "ipython3",
   "version": "3.9.7"
  }
 },
 "nbformat": 4,
 "nbformat_minor": 5
}
